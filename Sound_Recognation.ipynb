{
  "nbformat": 4,
  "nbformat_minor": 0,
  "metadata": {
    "colab": {
      "provenance": []
    },
    "kernelspec": {
      "name": "python3",
      "display_name": "Python 3"
    },
    "language_info": {
      "name": "python"
    }
  },
  "cells": [
    {
      "cell_type": "code",
      "execution_count": null,
      "metadata": {
        "id": "Hjr4Q7c0CL3z"
      },
      "outputs": [],
      "source": [
        "from google.colab import drive\n",
        "drive.mount('/content/drive')"
      ]
    },
    {
      "cell_type": "code",
      "source": [
        "import os\n",
        "import random\n",
        "from shutil import copyfile\n",
        "\n",
        "# Créer les dossiers train et test\n",
        "try:\n",
        "    os.mkdir('train')\n",
        "    os.mkdir('test')\n",
        "except OSError:\n",
        "    pass\n",
        "\n",
        "# Définir les noms des classes et les chemins d'accès aux dossiers\n",
        "class_names = ['Droun', 'noise']\n",
        "data_paths = ['/content/drive/MyDrive/Colab Notebooks/data/droun', '/content/drive/MyDrive/Colab Notebooks/data/noise']\n",
        "\n",
        "# Définir la proportion de données à utiliser pour l'ensemble de test\n",
        "test_size = 0.2\n",
        "\n",
        "# Pour chaque classe, diviser les données en ensembles de train et de test\n",
        "for i, class_name in enumerate(class_names):\n",
        "    files = os.listdir(data_paths[i])\n",
        "    random.shuffle(files)\n",
        "    n_test = int(len(files) * test_size)\n",
        "    test_files = files[:n_test]\n",
        "    train_files = files[n_test:]\n",
        "\n",
        "    # Copier les fichiers dans les dossiers train et test\n",
        "    for file_name in train_files:\n",
        "        src_path = os.path.join(data_paths[i], file_name)\n",
        "        dst_path = os.path.join('train', class_name, file_name)\n",
        "        os.makedirs(os.path.dirname(dst_path), exist_ok=True)\n",
        "        copyfile(src_path, dst_path)\n",
        "\n",
        "    for file_name in test_files:\n",
        "        src_path = os.path.join(data_paths[i], file_name)\n",
        "        dst_path = os.path.join('test', class_name, file_name)\n",
        "        os.makedirs(os.path.dirname(dst_path), exist_ok=True)\n",
        "        copyfile(src_path, dst_path)\n"
      ],
      "metadata": {
        "id": "lQ01yCHlCOhY"
      },
      "execution_count": null,
      "outputs": []
    },
    {
      "cell_type": "code",
      "source": [
        "!ls '/content'"
      ],
      "metadata": {
        "id": "UD5NShnmCVyU"
      },
      "execution_count": null,
      "outputs": []
    },
    {
      "cell_type": "code",
      "source": [
        "DATA_DIR= '/content/drive/MyDrive/data/DATA_sound'\n",
        "print(DATA_DIR)"
      ],
      "metadata": {
        "id": "LkItbxXGCWn1"
      },
      "execution_count": null,
      "outputs": []
    },
    {
      "cell_type": "code",
      "source": [
        "!pip install YOLOv5"
      ],
      "metadata": {
        "id": "cOqm9pgxCZzj"
      },
      "execution_count": null,
      "outputs": []
    },
    {
      "cell_type": "code",
      "source": [
        "#!pip install ultralytics 8.0.112\n",
        "!pip install ultralytics==8.0.73"
      ],
      "metadata": {
        "id": "f7q1uxzKCcGG"
      },
      "execution_count": null,
      "outputs": []
    },
    {
      "cell_type": "code",
      "source": [
        "import ultralytics\n",
        "print(ultralytics.__version__)"
      ],
      "metadata": {
        "id": "YPEM597qCekS"
      },
      "execution_count": null,
      "outputs": []
    },
    {
      "cell_type": "code",
      "source": [
        "import os\n",
        "from ultralytics import YOLO\n",
        "\n",
        "# create an instance of the YOLOv5 model\n",
        "\n",
        "# Load a model\n",
        "model = YOLO(\"yolov8n-cls.pt\")  # load a pretained model\n",
        "\n",
        "# train the model\n",
        "results = model.train(data=DATA_DIR, epochs=10, imgsz=64)  # train the mode"
      ],
      "metadata": {
        "id": "gkKKcAZtCiLq"
      },
      "execution_count": null,
      "outputs": []
    },
    {
      "cell_type": "code",
      "source": [
        "import os\n",
        "import pandas as pd\n",
        "import matplotlib.pyplot as plt\n",
        "from tensorflow.keras.preprocessing.image import load_img,img_to_array\n",
        "import seaborn as sns\n",
        "from google.colab import files\n",
        "from sklearn.metrics import confusion_matrix\n",
        "from sklearn.metrics import roc_curve, auc"
      ],
      "metadata": {
        "id": "Fzx60TlcCktQ"
      },
      "execution_count": null,
      "outputs": []
    },
    {
      "cell_type": "code",
      "source": [
        "results_path = '/content/runs/classify/train/results.csv'\n",
        "\n",
        "results = pd.read_csv(results_path)\n",
        "\n",
        "plt.figure()\n",
        "plt.plot(results['                  epoch'], results['             train/loss'], label='train loss')\n",
        "plt.plot(results['                  epoch'], results['               val/loss'], label='val loss', c='red')\n",
        "plt.grid()\n",
        "plt.title('Loss vs epochs')\n",
        "plt.ylabel('loss')\n",
        "plt.xlabel('epochs')\n",
        "plt.legend()\n",
        "\n",
        "plt.savefig( \" Loss_vs_epochs.png\")\n",
        "\n",
        "plt.figure()\n",
        "plt.plot(results['                  epoch'], results['  metrics/accuracy_top1'] * 100)\n",
        "plt.grid()\n",
        "plt.title('Validation accuracy vs epochs')\n",
        "plt.ylabel('accuracy (%)')\n",
        "plt.xlabel('epochs')\n",
        "plt.savefig( \" Validation_accuracy_vs_epochs.png\")\n",
        "#files.download ( \" Loss_vs_epochs.png\" )\n",
        "#files.download ( \" Validation_accuracy_vs_epochs.png\" )\n",
        "plt.show()"
      ],
      "metadata": {
        "id": "N6X4IO2bCoOY"
      },
      "execution_count": null,
      "outputs": []
    },
    {
      "cell_type": "code",
      "source": [
        "from ultralytics import YOLO\n",
        "import numpy as np\n",
        "model = YOLO('/content/runs/classify/train/weights/last.pt')  # load a custom model\n",
        "\n",
        "sound = '/content/drive/MyDrive/data/DATA_sound/test/droun/1.wav'\n",
        "y, sr = librosa.load(sound)\n",
        "#print(sr)\n",
        "mel_spect = librosa.feature.melspectrogram(y=y, sr=sr, n_fft=2048, hop_length=512  , n_mels=128)\n",
        "mel_spect = librosa.power_to_db(mel_spect, ref=np.max)\n",
        "librosa.display.specshow(mel_spect, y_axis='mel', fmax=8000, x_axis='time');\n",
        "plt.title('Mel Spectrogram');\n",
        "plt.colorbar(format='%+2.0f dB');\n",
        "plt.savefig( \" Mel Spectrogram.png\")\n",
        "\n",
        "\n",
        "\n",
        "\n",
        "results = model('Mel Spectrogram.png')  # predict\n",
        "#print(results)\n",
        "\n",
        "names_dict = results[0].names\n",
        "#print(names_dict)\n",
        "\n",
        "probs = results[0].probs.tolist()\n",
        "\n",
        "\n",
        "print(probs)\n",
        "class_binar = np.argmax(probs)\n",
        "print(class_binar)\n",
        "class_name = names_dict[np.argmax(probs)]\n",
        "print(class_name)"
      ],
      "metadata": {
        "id": "F0lZJSu4CwfU"
      },
      "execution_count": null,
      "outputs": []
    },
    {
      "cell_type": "code",
      "source": [
        "!pip install scikit-learn"
      ],
      "metadata": {
        "id": "a9rKtM7IC8PR"
      },
      "execution_count": null,
      "outputs": []
    },
    {
      "cell_type": "code",
      "source": [
        "path='/content/drive/MyDrive/data/DATA_sound/test'\n",
        "\n",
        "y_droun=[]\n",
        "y_noise=[]\n",
        "\n",
        "y_test = [y_droun,y_noise]\n",
        "\n",
        "\n",
        "person_folders=os.listdir(path) #list the content of image_crop folder\n",
        "print(person_folders)"
      ],
      "metadata": {
        "id": "fnV0N8vTDBer"
      },
      "execution_count": null,
      "outputs": []
    },
    {
      "cell_type": "code",
      "source": [
        "j=0\n",
        "for i in person_folders: # a loop to store label names inside the person_rep dictionnary\n",
        "  print(i)\n",
        "  image_names=os.listdir(path+'/'+str(i)+'/') #list the content (images) of each subject folder of the training set\n",
        "  print(np.shape(image_names))\n",
        "  for image_name in image_names: # a loop to read all testing images\n",
        "   #print(image_name)\n",
        "   #img=load_img(path+'/'+str(i)+'/'+image_name,target_size=(64,64))\n",
        "   #print(img)\n",
        "\n",
        "   y_test[j].append(j) #append the label to the y_train array\n",
        "   #print(j)\n",
        "  j=j+1"
      ],
      "metadata": {
        "id": "RPl2oE1DDha9"
      },
      "execution_count": null,
      "outputs": []
    },
    {
      "cell_type": "code",
      "source": [
        "print(y_droun)\n",
        "print('y_droun shape : {}'.format(np.shape(y_droun)))\n",
        "print(y_noise)\n",
        "print('y_noise shape : {}'.format(np.shape(y_noise)))"
      ],
      "metadata": {
        "id": "WJqkW49oDmFE"
      },
      "execution_count": null,
      "outputs": []
    },
    {
      "cell_type": "code",
      "source": [
        "y_test = np.concatenate((y_droun,y_noise), axis = 0)\n",
        "print(y_test)\n",
        "print('y_test shape : {}'.format(np.shape(y_test)))"
      ],
      "metadata": {
        "id": "FE1PD1o3D0XP"
      },
      "execution_count": null,
      "outputs": []
    },
    {
      "cell_type": "code",
      "source": [
        "from ultralytics import YOLO\n",
        "import numpy as np\n",
        "model = YOLO('/content/runs/classify/train/weights/last.pt')  # load a custom model"
      ],
      "metadata": {
        "id": "UNdqMOyoEGK8"
      },
      "execution_count": null,
      "outputs": []
    },
    {
      "cell_type": "code",
      "source": [
        "prediction_test = []\n",
        "prediction_class = []\n",
        "j=0\n",
        "for i in person_folders: # a loop to store label names inside the person_rep dictionnary\n",
        "  print(i)\n",
        "  image_names=os.listdir(path+'/'+str(i)+'/') #list the content (images) of each subject folder of the training set\n",
        "  print(np.shape(image_names))\n",
        "  for image_name in image_names: # a loop to read all testing images\n",
        "   #print(image_name)\n",
        "\n",
        "   img=load_img(path+'/'+str(i)+'/'+image_name)\n",
        "   #print(img)\n",
        "   results = model(img)  # predict on an image\n",
        "   #print(results)\n",
        "\n",
        "   names_dict = results[0].names\n",
        "   #print(names_dict)\n",
        "\n",
        "   probs = results[0].probs.tolist()\n",
        "   class_binar = np.argmax(probs)\n",
        "   print(class_binar)\n",
        "   class_name = names_dict[np.argmax(probs)]\n",
        "   print(class_name)\n",
        "\n",
        "\n",
        "   prediction_test.append(class_binar) #append the label to the y_train array\n",
        "   prediction_class.append(class_name)\n",
        "   #print(j)\n",
        "  j=j+1"
      ],
      "metadata": {
        "id": "BRL7dSCTEHdF"
      },
      "execution_count": null,
      "outputs": []
    },
    {
      "cell_type": "code",
      "source": [
        "fpr, tpr, thresholds = roc_curve(y_test,prediction_test)\n",
        "\n",
        "# Calculate AUC score\n",
        "roc_auc = auc(fpr, tpr)\n",
        "\n",
        "# Plot ROC curve\n",
        "plt.figure()\n",
        "plt.plot(fpr, tpr, color='darkorange', lw=2, label='ROC curve (area = %0.2f)' % roc_auc)\n",
        "plt.plot([0, 1], [0, 1], color='navy', lw=2, linestyle='--')\n",
        "plt.xlim([0.0, 1.0])\n",
        "plt.ylim([0.0, 1.05])\n",
        "plt.xlabel('False Positive Rate')\n",
        "plt.ylabel('True Positive Rate')\n",
        "plt.title('Receiver operating characteristic')\n",
        "plt.legend(loc=\"lower right\")\n",
        "plt.savefig( \"Receiver operating characteristic.png\")\n",
        "#files.download( \" Receiver operating characteristic.png\" )\n",
        "plt.show()"
      ],
      "metadata": {
        "id": "ctOabZsuEZpF"
      },
      "execution_count": null,
      "outputs": []
    },
    {
      "cell_type": "code",
      "source": [
        "cm = confusion_matrix(y_test, prediction_test)\n",
        "print(cm)\n",
        "fig = plt.figure(figsize = (4,5))\n",
        "ax = fig.add_subplot(1,1,1)\n",
        "ax = sns.heatmap(cm, annot=True,cmap='Purples',fmt=\".0f\" )\n",
        "\n",
        "#ax.set_title('Seaborn Confusion Matrix with labels\\n\\n',fontsize = 10);\n",
        "ax.set_xlabel('\\nPredicted Values',fontsize = 10)\n",
        "ax.set_ylabel('Actual Values ',fontsize = 10);\n",
        "\n",
        "## Ticket labels - List must be in alphabetical order\n",
        "ax.xaxis.set_ticklabels(['Mask','Real'])\n",
        "ax.yaxis.set_ticklabels(['Mask','Real'])\n",
        "\n",
        "plt.savefig( \" Confusion Matrix.png\")\n",
        "\n",
        "#files.download( \" Confusion Matrix.png\" )\n",
        "\n",
        "## Display the visualization of the Confusion Matrix.\n",
        "plt.show()"
      ],
      "metadata": {
        "id": "oBGqKBWSEamH"
      },
      "execution_count": null,
      "outputs": []
    },
    {
      "cell_type": "code",
      "source": [],
      "metadata": {
        "id": "R_uAHDFgEee5"
      },
      "execution_count": null,
      "outputs": []
    }
  ]
}